{
  "nbformat": 4,
  "nbformat_minor": 0,
  "metadata": {
    "colab": {
      "provenance": [],
      "authorship_tag": "ABX9TyPsa3Vh6Pa75RC15rpnjY/w",
      "include_colab_link": true
    },
    "kernelspec": {
      "name": "python3",
      "display_name": "Python 3"
    },
    "language_info": {
      "name": "python"
    }
  },
  "cells": [
    {
      "cell_type": "markdown",
      "metadata": {
        "id": "view-in-github",
        "colab_type": "text"
      },
      "source": [
        "<a href=\"https://colab.research.google.com/github/danshinn04/stock-price-prediction/blob/main/progress_summarized_proof_of_concept.ipynb\" target=\"_parent\"><img src=\"https://colab.research.google.com/assets/colab-badge.svg\" alt=\"Open In Colab\"/></a>"
      ]
    },
    {
      "cell_type": "code",
      "execution_count": 2,
      "metadata": {
        "colab": {
          "base_uri": "https://localhost:8080/"
        },
        "id": "grWV8Qc2iUGE",
        "outputId": "17c15207-9539-43d8-8c70-fa42bd391f56"
      },
      "outputs": [
        {
          "output_type": "stream",
          "name": "stdout",
          "text": [
            "Requirement already satisfied: cryptography in /usr/local/lib/python3.10/dist-packages (42.0.8)\n",
            "Requirement already satisfied: nltk in /usr/local/lib/python3.10/dist-packages (3.8.1)\n",
            "Requirement already satisfied: cffi>=1.12 in /usr/local/lib/python3.10/dist-packages (from cryptography) (1.16.0)\n",
            "Requirement already satisfied: click in /usr/local/lib/python3.10/dist-packages (from nltk) (8.1.7)\n",
            "Requirement already satisfied: joblib in /usr/local/lib/python3.10/dist-packages (from nltk) (1.4.2)\n",
            "Requirement already satisfied: regex>=2021.8.3 in /usr/local/lib/python3.10/dist-packages (from nltk) (2024.5.15)\n",
            "Requirement already satisfied: tqdm in /usr/local/lib/python3.10/dist-packages (from nltk) (4.66.4)\n",
            "Requirement already satisfied: pycparser in /usr/local/lib/python3.10/dist-packages (from cffi>=1.12->cryptography) (2.22)\n"
          ]
        }
      ],
      "source": [
        "!pip install cryptography nltk"
      ]
    },
    {
      "cell_type": "code",
      "source": [
        "from cryptography.fernet import Fernet\n",
        "import nltk\n",
        "from collections import Counter\n",
        "import unittest"
      ],
      "metadata": {
        "id": "ASkS-uRaig0V"
      },
      "execution_count": 3,
      "outputs": []
    },
    {
      "cell_type": "code",
      "source": [
        "nltk.download('punkt')"
      ],
      "metadata": {
        "colab": {
          "base_uri": "https://localhost:8080/"
        },
        "id": "QPOT52eEihnO",
        "outputId": "604e33eb-351b-44fd-ce7d-daa54ec0169f"
      },
      "execution_count": 4,
      "outputs": [
        {
          "output_type": "stream",
          "name": "stderr",
          "text": [
            "[nltk_data] Downloading package punkt to /root/nltk_data...\n",
            "[nltk_data]   Unzipping tokenizers/punkt.zip.\n"
          ]
        },
        {
          "output_type": "execute_result",
          "data": {
            "text/plain": [
              "True"
            ]
          },
          "metadata": {},
          "execution_count": 4
        }
      ]
    },
    {
      "cell_type": "code",
      "source": [
        "def generate_key():\n",
        "    return Fernet.generate_key()\n"
      ],
      "metadata": {
        "id": "6ZbTbOT7ilRW"
      },
      "execution_count": 5,
      "outputs": []
    },
    {
      "cell_type": "code",
      "source": [
        "def encrypt_message(message, key):\n",
        "    fernet = Fernet(key)\n",
        "    return fernet.encrypt(message.encode())"
      ],
      "metadata": {
        "id": "UZgq6GOvinmb"
      },
      "execution_count": 6,
      "outputs": []
    },
    {
      "cell_type": "code",
      "source": [
        "def decrypt_message(encrypted_message, key):\n",
        "    fernet = Fernet(key)\n",
        "    return fernet.decrypt(encrypted_message).decode()\n",
        "\n",
        "def tally_keywords(encrypted_messages, key, keywords):\n",
        "    keyword_counts = Counter()\n",
        "\n",
        "    for encrypted_message in encrypted_messages:\n",
        "        decrypted_message = decrypt_message(encrypted_message, key)\n",
        "        words = nltk.word_tokenize(decrypted_message.lower())\n",
        "        keyword_counts.update([word for word in words if word in keywords])\n",
        "\n",
        "    return keyword_counts\n",
        "\n",
        "def main():\n",
        "    key = generate_key()\n",
        "    keywords = ['text1', 'text2', 'text3']\n",
        "    messages = [\"encrypted text1 message\", \"encrypted text1 and text2 and text3\", \"No text\"]\n",
        "    encrypted_messages = [encrypt_message(msg, key) for msg in messages]\n",
        "    print(\"Original messages:\", messages)\n",
        "    print(\"Encrypted messages:\", encrypted_messages)\n",
        "    keyword_tally = tally_keywords(encrypted_messages, key, keywords)\n",
        "    print(\"Keyword Tally:\", keyword_tally)\n",
        "\n",
        "    class TestEncryptionModule(unittest.TestCase):\n",
        "\n",
        "        def setUp(self):\n",
        "            self.key = key\n",
        "            self.keywords = keywords\n",
        "            self.messages = messages\n",
        "            self.encrypted_messages = encrypted_messages\n",
        "\n",
        "        def test_encrypt_decrypt(self):\n",
        "            for i, msg in enumerate(self.messages):\n",
        "                encrypted_msg = self.encrypted_messages[i]\n",
        "                decrypted_msg = decrypt_message(encrypted_msg, self.key)\n",
        "                self.assertEqual(msg, decrypted_msg)\n",
        "\n",
        "        def test_tally_keywords(self):\n",
        "            keyword_tally = tally_keywords(self.encrypted_messages, self.key, self.keywords)\n",
        "            self.assertEqual(keyword_tally['text1'], 2)\n",
        "            self.assertEqual(keyword_tally['text2'], 1)\n",
        "            self.assertEqual(keyword_tally['text3'], 1)\n",
        "\n",
        "    unittest.main(argv=[''], verbosity=2, exit=False)\n",
        "\n",
        "if __name__ == \"__main__\":\n",
        "    main()"
      ],
      "metadata": {
        "colab": {
          "base_uri": "https://localhost:8080/"
        },
        "id": "CxqF4ZB9iqAj",
        "outputId": "680aebfa-69c3-41b5-ade7-9049e717e59d"
      },
      "execution_count": 7,
      "outputs": [
        {
          "output_type": "stream",
          "name": "stderr",
          "text": [
            "\n",
            "----------------------------------------------------------------------\n",
            "Ran 0 tests in 0.000s\n",
            "\n",
            "OK\n"
          ]
        },
        {
          "output_type": "stream",
          "name": "stdout",
          "text": [
            "Original messages: ['encrypted text1 message', 'encrypted text1 and text2 and text3', 'No text']\n",
            "Encrypted messages: [b'gAAAAABmgOFvD-7WVeUnQAc-HRmjvLgPSPbA6nYwshgxyYIX78Gc9Bu3tiRGyDtQbB2UqFlJc7EUr7zmqVrqSZ266zwrdoPkGr79za8pSrjhen8gzi9gRpE=', b'gAAAAABmgOFvzQ5nWA14X2O1KMq2UVUlln4zV130G_4Ij72OFrpsiONHKTRNw7MMamon3yvxYzHAjwcoV2y77SHyMnAVnT2-UGPlgwC2gcyD8hJxUkd-XFGsiY-Ovi_jRLZhQwCBs-YQ', b'gAAAAABmgOFvcby8HDdkEtsz4c42PmoZ7qtfPAAdc6P0gGZvL1awtQhi9xQU9AVIHKJWzWoVT1lG1cjPLfa-rOGkHtITMrb4BQ==']\n",
            "Keyword Tally: Counter({'text1': 2, 'text2': 1, 'text3': 1})\n"
          ]
        }
      ]
    },
    {
      "cell_type": "code",
      "source": [],
      "metadata": {
        "id": "49_n15XIi6xT"
      },
      "execution_count": null,
      "outputs": []
    }
  ]
}