{
 "cells": [
  {
   "cell_type": "code",
   "execution_count": null,
   "metadata": {},
   "outputs": [],
   "source": [
    "# Convert 'date' and 'minute' to a datetime format that can be used in time series models\n",
    "df['datetime'] = pd.to_datetime(df['date'].astype(str) + ' ' + df['minute'].astype(str), format='%Y-%m-%d %H%M')\n",
    "\n",
    "# Set datetime as the index\n",
    "df.set_index('datetime', inplace=True)"
   ]
  },
  {
   "cell_type": "markdown",
   "metadata": {},
   "source": [
    "Autoregressive Integrated Moving Average"
   ]
  },
  {
   "cell_type": "code",
   "execution_count": null,
   "metadata": {},
   "outputs": [],
   "source": [
    "from statsmodels.tsa.arima.model import ARIMA\n",
    "\n",
    "# Fit an ARIMA model\n",
    "arima_model = ARIMA(df['aapl_close'], order=(1, 1, 1))\n",
    "arima_result = arima_model.fit()\n",
    "print(arima_result.summary())\n"
   ]
  },
  {
   "cell_type": "markdown",
   "metadata": {},
   "source": [
    "LSTM Model Implementation"
   ]
  },
  {
   "cell_type": "code",
   "execution_count": null,
   "metadata": {},
   "outputs": [],
   "source": [
    "from keras.models import Sequential\n",
    "from keras.layers import LSTM, Dropout, Dense\n",
    "from keras.optimizers import Adam\n",
    "\n",
    "# Preparing data for LSTM\n",
    "def create_sequences(data, window_size=10):\n",
    "    sequences = []\n",
    "    labels = []\n",
    "    for i in range(len(data) - window_size):\n",
    "        sequences.append(data.iloc[i:(i + window_size)].values)\n",
    "        labels.append(data.iloc[i + window_size])\n",
    "    return np.array(sequences), np.array(labels)\n",
    "\n",
    "window_size = 10  # number of past days to consider\n",
    "X_train, y_train = create_sequences(train_data['Close'], window_size)\n",
    "X_val, y_val = create_sequences(val_data['Close'], window_size)\n",
    "\n",
    "# LSTM Model Architecture\n",
    "model = Sequential([\n",
    "    LSTM(50, return_sequences=True, input_shape=(window_size, 1)),\n",
    "    Dropout(0.2),\n",
    "    LSTM(50),\n",
    "    Dropout(0.2),\n",
    "    Dense(1)\n",
    "])\n",
    "\n",
    "model.compile(optimizer=Adam(lr=0.01), loss='mean_squared_error')\n",
    "\n",
    "# Training the model\n",
    "model.fit(X_train, y_train, epochs=50, batch_size=32, validation_data=(X_val, y_val))\n"
   ]
  },
  {
   "cell_type": "markdown",
   "metadata": {},
   "source": [
    "Random Forest Model"
   ]
  },
  {
   "cell_type": "code",
   "execution_count": null,
   "metadata": {},
   "outputs": [],
   "source": [
    "from sklearn.ensemble import RandomForestRegressor\n",
    "from sklearn.metrics import mean_squared_error\n",
    "\n",
    "# Random Forest Model\n",
    "rf_model = RandomForestRegressor(n_estimators=100, max_depth=10, random_state=42)\n",
    "rf_model.fit(train_data[['moving_average_5', 'moving_average_10']], train_data['Close'])\n",
    "\n",
    "# Prediction and Evaluation\n",
    "predictions = rf_model.predict(val_data[['moving_average_5', 'moving_average_10']])\n",
    "mse = mean_squared_error(val_data['Close'], predictions)\n",
    "print(f'Mean Squared Error: {mse}')\n",
    "\n",
    "# Feature Importance\n",
    "importances = rf_model.feature_importances_\n",
    "plt.barh(['moving_average_5', 'moving_average_10'], importances)\n",
    "plt.xlabel('Importance')\n",
    "plt.title('Feature Importance')\n",
    "plt.show()\n"
   ]
  }
 ],
 "metadata": {
  "language_info": {
   "name": "python"
  }
 },
 "nbformat": 4,
 "nbformat_minor": 2
}
